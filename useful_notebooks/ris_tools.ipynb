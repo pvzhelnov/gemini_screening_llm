{
 "cells": [
  {
   "cell_type": "markdown",
   "id": "58b087c8",
   "metadata": {},
   "source": [
    "Just some useful snippets for working with RIS files."
   ]
  },
  {
   "cell_type": "code",
   "execution_count": 24,
   "id": "f8a40cf6",
   "metadata": {},
   "outputs": [
    {
     "data": {
      "text/plain": [
       "True"
      ]
     },
     "execution_count": 24,
     "metadata": {},
     "output_type": "execute_result"
    }
   ],
   "source": [
    "import rispy\n",
    "import pandas as pd\n",
    "import numpy as np  # for set ops\n",
    "from dotenv import load_dotenv\n",
    "load_dotenv()"
   ]
  },
  {
   "cell_type": "code",
   "execution_count": 25,
   "id": "5d156b1e",
   "metadata": {},
   "outputs": [],
   "source": [
    "# Create a deep copy of the rispy.TAG_KEY_MAPPING dictionary (rispy's default actually)\n",
    "# rispy.TAG_KEY_MAPPING is a dictionary used by the rispy library to map\n",
    "# RIS tag abbreviations (like 'TY', 'AU', 'PY') to more descriptive Python keys\n",
    "# (like 'type', 'authors', 'year'). This deep copy ensures that the original\n",
    "# library's mapping is not modified if the 'mapping' dictionary is changed later.\n",
    "# More about this (including a complete mapping): https://github.com/MrTango/rispy\n",
    "from copy import deepcopy\n",
    "mapping = deepcopy(rispy.TAG_KEY_MAPPING)"
   ]
  },
  {
   "cell_type": "code",
   "execution_count": 26,
   "id": "e41e954f",
   "metadata": {},
   "outputs": [],
   "source": [
    "# Load some arguments and set output file path\n",
    "import os\n",
    "f1_path = os.getenv('INPUT_RIS_1ST_PATH')\n",
    "f2_path = os.getenv('INPUT_RIS_2ND_PATH')\n",
    "fo_path = os.getenv('OUTPUT_RIS_PATH')\n",
    "dfs_labels={\n",
    "    f1_path: \"1st input RIS\",\n",
    "    f2_path: \"2nd input RIS\",\n",
    "    fo_path: \"output RIS\"\n",
    "}"
   ]
  },
  {
   "cell_type": "code",
   "execution_count": 27,
   "id": "720c2a25",
   "metadata": {},
   "outputs": [],
   "source": [
    "def do_stuff_with_ris(df1: pd.DataFrame, df2: pd.DataFrame, dfs_labels={}) -> pd.DataFrame:\n",
    "    \"\"\"Just implement some pandas stuff to do with RIS files.\"\"\"\n",
    "    try:\n",
    "        # For example, remove included from total screened to get excluded (or vice versa)\n",
    "        output_df = df1[~df1.index.isin(df2.index)]\n",
    "    except:\n",
    "        output_df = pd.DataFrame()\n",
    "    return output_df"
   ]
  },
  {
   "cell_type": "code",
   "execution_count": 28,
   "id": "88f2d259",
   "metadata": {},
   "outputs": [
    {
     "name": "stdout",
     "output_type": "stream",
     "text": [
      "Loaded input files:\n",
      "observed 3463, expected 3463  # 1st input RIS\n",
      "observed 392, expected 392  # 2nd input RIS\n"
     ]
    }
   ],
   "source": [
    "# Load the RIS files\n",
    "dfs = {}  # dict of dataframes, with file_path as key\n",
    "for file_path in [f1_path, f2_path]:\n",
    "    # For some reason, EndNote RIS use UTF-8 with BOM encoding\n",
    "    with open(file_path, 'r', encoding=\"utf-8-sig\") as bibliography_file:\n",
    "        entries = rispy.load(bibliography_file, encoding='utf-8', mapping=mapping)\n",
    "        dfs[file_path] = pd.DataFrame(entries)\n",
    "        #for entry in entries:\n",
    "        #    pprint(entry)\n",
    "        #    break\n",
    "def expected_n(file_path: str):\n",
    "    \"\"\"\n",
    "    Assuming that filenames follow the title_123.ris convention,\n",
    "    where 123 is the number of records in the file.\n",
    "    \"\"\"\n",
    "    try:\n",
    "        return int(os.path.basename(file_path).split('_')[-1].split('.')[0])   \n",
    "    except:\n",
    "        try:  # perhaps it has a suffix?\n",
    "            return int(os.path.basename(file_path).split('_')[-2].split('.')[0])\n",
    "        except:\n",
    "            pass\n",
    "        return pd.NA\n",
    "print(\"Loaded input files:\",\n",
    "      f\"observed {len(dfs[f1_path])}, expected {expected_n(f1_path)}  # {dfs_labels[f1_path]}\",\n",
    "      f\"observed {len(dfs[f2_path])}, expected {expected_n(f2_path)}  # {dfs_labels[f2_path]}\",\n",
    "      sep=\"\\n\")"
   ]
  },
  {
   "cell_type": "code",
   "execution_count": 29,
   "id": "023f4f6f",
   "metadata": {},
   "outputs": [
    {
     "name": "stdout",
     "output_type": "stream",
     "text": [
      "Dumped output file:\n",
      "observed 3071, expected 3071  # output RIS\n"
     ]
    }
   ],
   "source": [
    "# Process and dump the output RIS file\n",
    "dfs[fo_path] = do_stuff_with_ris(dfs[f1_path], dfs[f2_path])\n",
    "with open(fo_path, 'w', encoding='utf-8-sig') as bibliography_file:\n",
    "    # Note that NaN values are set to empty strings\n",
    "    entries_to_dump = dfs[fo_path].replace({pd.NA: ''}).to_dict(orient='records')\n",
    "    rispy.dump(entries_to_dump, bibliography_file)\n",
    "def calc_expected_n(n1: int, n2: int) -> int | pd.api.typing.NAType:\n",
    "    \"\"\"Function to override as needed.\"\"\"\n",
    "    return n1 - n2\n",
    "print(\"Dumped output file:\",\n",
    "      f\"observed {len(dfs[fo_path])}, expected {calc_expected_n(expected_n(f1_path), expected_n(f2_path))}  # {dfs_labels[fo_path]}\",\n",
    "      sep=\"\\n\")"
   ]
  }
 ],
 "metadata": {
  "kernelspec": {
   "display_name": "gemini_llm",
   "language": "python",
   "name": "python3"
  },
  "language_info": {
   "codemirror_mode": {
    "name": "ipython",
    "version": 3
   },
   "file_extension": ".py",
   "mimetype": "text/x-python",
   "name": "python",
   "nbconvert_exporter": "python",
   "pygments_lexer": "ipython3",
   "version": "3.10.16"
  }
 },
 "nbformat": 4,
 "nbformat_minor": 5
}
